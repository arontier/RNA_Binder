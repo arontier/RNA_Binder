{
 "cells": [
  {
   "attachments": {},
   "cell_type": "markdown",
   "id": "4f0f701f-c552-4ca1-8188-2cdfc1362f6b",
   "metadata": {},
   "source": [
    "# Uni-Mol Molecular Represitation"
   ]
  },
  {
   "attachments": {},
   "cell_type": "markdown",
   "id": "d3449ed8-2a57-4e62-9163-e32baf66e828",
   "metadata": {},
   "source": [
    "**Licenses**\n",
    "\n",
    "Copyright (c) DP Technology.\n",
    "\n",
    "This source code is licensed under the MIT license found in the\n",
    "LICENSE file in the root directory of this source tree.\n",
    "\n",
    "**Citations**\n",
    "\n",
    "Please cite the following papers if you use this notebook:\n",
    "\n",
    "- Gengmo Zhou, Zhifeng Gao, Qiankun Ding, Hang Zheng, Hongteng Xu, Zhewei Wei, Linfeng Zhang, Guolin Ke. \"[Uni-Mol: A Universal 3D Molecular Representation Learning Framework.](https://chemrxiv.org/engage/chemrxiv/article-details/6318b529bada388485bc8361)\"\n",
    "ChemRxiv (2022)"
   ]
  },
  {
   "cell_type": "code",
   "execution_count": 26,
   "id": "6d51f850-76cd-4801-bf2e-a4c53221d586",
   "metadata": {},
   "outputs": [],
   "source": [
    "import os\n",
    "import numpy as np\n",
    "import pandas as pd\n",
    "import lmdb\n",
    "from rdkit import Chem\n",
    "from rdkit.Chem import AllChem\n",
    "from tqdm import tqdm\n",
    "import pickle\n",
    "import glob"
   ]
  },
  {
   "attachments": {},
   "cell_type": "markdown",
   "id": "89c70ab0-da59-459d-bf1c-ac307e9e7ae5",
   "metadata": {},
   "source": [
    "### Your SMILES list"
   ]
  },
  {
   "cell_type": "code",
   "execution_count": 27,
   "id": "bfa0ce2a-b7aa-4cae-81ba-27b91c0591e4",
   "metadata": {},
   "outputs": [],
   "source": [
    "smi_list = [\n",
    "'CC1=C(C(=O)OC2CCCC2)[C@H](c2ccccc2OC(C)C)C2=C(O)CC(C)(C)CC2=[N+]1',\n",
    "# 'COc1cccc(-c2nc(C(=O)NC[C@H]3CCCO3)cc3c2[nH]c2ccccc23)c1',\n",
    "# 'O=C1c2ccccc2C(=O)c2c1ccc(C(=O)n1nc3c4c(cccc41)C(=O)c1ccccc1-3)c2[N+](=O)[O-]',\n",
    "# 'COc1cc(/C=N/c2nonc2NC(C)=O)ccc1OC(C)C',\n",
    "# 'CCC[C@@H]1CN(Cc2ccc3nsnc3c2)C[C@H]1NS(C)(=O)=O',\n",
    "# 'CCc1nnc(N/C(O)=C/CCOc2ccc(OC)cc2)s1',\n",
    "# 'CC(C)(C)SCCN/C=C1\\C(=O)NC(=O)N(c2ccc(Br)cc2)C1=O',\n",
    "# 'CC(C)(C)c1nc(COc2ccc3c(c2)CCn2c-3cc(OCC3COCCO3)nc2=O)no1',\n",
    "# 'N#CCCNS(=O)(=O)c1ccc(/C(O)=N/c2ccccc2Oc2ccccc2Cl)cc1',\n",
    "# 'O=C(Nc1ncc(Cl)s1)c1cccc(S(=O)(=O)Nc2ccc(Br)cc2)c1',\n",
    "]"
   ]
  },
  {
   "attachments": {},
   "cell_type": "markdown",
   "id": "b109d84a-8d59-445b-9997-d1383ee24079",
   "metadata": {},
   "source": [
    "### Generate conformations from SMILES and save to .lmdb"
   ]
  },
  {
   "cell_type": "code",
   "execution_count": 28,
   "id": "ea582d7d-8851-4d46-880e-54867737b232",
   "metadata": {},
   "outputs": [],
   "source": [
    "def smi2coords(smi, seed):\n",
    "    mol = Chem.MolFromSmiles(smi)\n",
    "    mol = AllChem.AddHs(mol)\n",
    "    atoms = [atom.GetSymbol() for atom in mol.GetAtoms()]\n",
    "    coordinate_list = []\n",
    "    res = AllChem.EmbedMolecule(mol, randomSeed=seed)\n",
    "    if res == 0:\n",
    "        try:\n",
    "            AllChem.MMFFOptimizeMolecule(mol)\n",
    "        except:\n",
    "            pass\n",
    "        coordinates = mol.GetConformer().GetPositions()\n",
    "    elif res == -1:\n",
    "        mol_tmp = Chem.MolFromSmiles(smi)\n",
    "        AllChem.EmbedMolecule(mol_tmp, maxAttempts=5000, randomSeed=seed)\n",
    "        mol_tmp = AllChem.AddHs(mol_tmp, addCoords=True)\n",
    "        try:\n",
    "            AllChem.MMFFOptimizeMolecule(mol_tmp)\n",
    "        except:\n",
    "            pass\n",
    "        coordinates = mol_tmp.GetConformer().GetPositions()\n",
    "    assert len(atoms) == len(coordinates), \"coordinates shape is not align with {}\".format(smi)\n",
    "    coordinate_list.append(coordinates.astype(np.float32))\n",
    "    return pickle.dumps({'atoms': atoms, 'coordinates': coordinate_list, 'smi': smi}, protocol=-1)\n",
    "\n",
    "def write_lmdb(smiles_list, job_name, seed=42, outpath='./results'):\n",
    "    os.makedirs(outpath, exist_ok=True)\n",
    "    output_name = os.path.join(outpath,'{}.lmdb'.format(job_name))\n",
    "    try:\n",
    "        os.remove(output_name)\n",
    "    except:\n",
    "        pass\n",
    "    env_new = lmdb.open(\n",
    "        output_name,\n",
    "        subdir=False,\n",
    "        readonly=False,\n",
    "        lock=False,\n",
    "        readahead=False,\n",
    "        meminit=False,\n",
    "        max_readers=1,\n",
    "        map_size=int(100e9),\n",
    "    )\n",
    "    txn_write = env_new.begin(write=True)\n",
    "    for i, smiles in tqdm(enumerate(smiles_list)):\n",
    "        inner_output = smi2coords(smiles, seed=seed)\n",
    "        txn_write.put(f\"{i}\".encode(\"ascii\"), inner_output)\n",
    "    txn_write.commit()\n",
    "    env_new.close()"
   ]
  },
  {
   "cell_type": "code",
   "execution_count": 29,
   "id": "dad25a1a-f93e-4fdf-b389-2a3fe61a40ee",
   "metadata": {},
   "outputs": [
    {
     "name": "stderr",
     "output_type": "stream",
     "text": [
      "0it [00:00, ?it/s]"
     ]
    },
    {
     "name": "stderr",
     "output_type": "stream",
     "text": [
      "1it [00:00,  4.41it/s]\n"
     ]
    }
   ],
   "source": [
    "seed = 42\n",
    "job_name = 'get_mol_repr'   # replace to your custom name\n",
    "data_path = './results'  # replace to your data path\n",
    "weight_path='/People/hongyiyu/Project/rna_bind/mol_pre_all_h_220816.pt'  # replace to your ckpt path\n",
    "only_polar=0  # no h\n",
    "dict_name='dict.txt'\n",
    "batch_size=16\n",
    "results_path=data_path   # replace to your save path\n",
    "write_lmdb(smi_list, job_name=job_name, seed=seed, outpath=data_path)"
   ]
  },
  {
   "attachments": {},
   "cell_type": "markdown",
   "id": "12284210-7f86-4062-b291-7c077ef6f83a",
   "metadata": {},
   "source": [
    "### Infer from ckpt"
   ]
  },
  {
   "cell_type": "code",
   "execution_count": 30,
   "id": "9fb2391b-81b0-4b11-95ea-3b7855db9bc6",
   "metadata": {},
   "outputs": [
    {
     "name": "stdout",
     "output_type": "stream",
     "text": [
      "/People/hongyiyu/.local/lib/python3.8/site-packages/scipy/__init__.py:146: UserWarning: A NumPy version >=1.16.5 and <1.23.0 is required for this version of SciPy (detected version 1.24.3\n",
      "  warnings.warn(f\"A NumPy version >={np_minversion} and <{np_maxversion}\"\n",
      "2023-06-27 13:23:14 | INFO | unimol.inference | loading model(s) from /People/hongyiyu/Project/rna_bind/mol_pre_all_h_220816.pt\n",
      "2023-06-27 13:23:14 | INFO | unimol.tasks.unimol | dictionary: 30 types\n",
      "2023-06-27 13:23:16 | INFO | unimol.inference | Namespace(activation_dropout=0.0, activation_fn='gelu', adam_betas='(0.9, 0.999)', adam_eps=1e-08, all_gather_list_size=16384, allreduce_fp32_grad=False, arch='unimol_base', attention_dropout=0.1, batch_size=16, batch_size_valid=16, bf16=False, bf16_sr=False, broadcast_buffers=False, bucket_cap_mb=25, cpu=False, curriculum=0, data='./results', data_buffer_size=10, ddp_backend='c10d', delta_pair_repr_norm_loss=-1.0, device_id=0, dict_name='dict.txt', disable_validation=False, distributed_backend='nccl', distributed_init_method=None, distributed_no_spawn=False, distributed_num_procs=1, distributed_port=-1, distributed_rank=0, distributed_world_size=1, dropout=0.1, ema_decay=-1.0, emb_dropout=0.1, empty_cache_freq=0, encoder_attention_heads=64, encoder_embed_dim=512, encoder_ffn_embed_dim=2048, encoder_layers=15, fast_stat_sync=False, find_unused_parameters=False, fix_batches_to_gpus=False, fixed_validation_seed=None, force_anneal=None, fp16=True, fp16_init_scale=4, fp16_no_flatten_grads=False, fp16_scale_tolerance=0.0, fp16_scale_window=256, leave_unmasked_prob=1.0, log_format='simple', log_interval=50, loss='unimol_infer', lr_scheduler='fixed', lr_shrink=0.1, mask_prob=0.15, masked_coord_loss=-1.0, masked_dist_loss=-1.0, masked_token_loss=-1.0, max_atoms=256, max_seq_len=512, max_valid_steps=None, min_loss_scale=0.0001, mode='infer', model_overrides='{}', no_progress_bar=False, no_seed_provided=False, noise=1.0, noise_type='uniform', nprocs_per_node=1, num_workers=8, only_polar=0, optimizer='adam', path='/People/hongyiyu/Project/rna_bind/mol_pre_all_h_220816.pt', pooler_activation_fn='tanh', pooler_dropout=0.0, post_ln=False, profile=False, quiet=False, random_token_prob=0.0, remove_hydrogen=True, remove_polar_hydrogen=False, required_batch_size_multiple=1, results_path='./results', seed=1, skip_invalid_size_inputs_valid_test=False, suppress_crashes=False, task='unimol', tensorboard_logdir='', threshold_loss_scale=None, train_subset='train', user_dir='../unimol', valid_subset='get_mol_repr', validate_after_updates=0, validate_interval=1, validate_interval_updates=0, validate_with_ema=False, wandb_name='', wandb_project='', warmup_updates=0, weight_decay=0.0, x_norm_loss=-1.0)\n",
      "2023-06-27 13:23:16 | INFO | unicore.tasks.unicore_task | get EpochBatchIterator for epoch 1\n",
      "2023-06-27 13:23:17 | INFO | unimol.inference | Done inference! \n"
     ]
    }
   ],
   "source": [
    "# NOTE: Currently, the inference is only supported to run on a single GPU. You can add CUDA_VISIBLE_DEVICES=\"0\" before the command.\n",
    "!cp ../example_data/molecule/$dict_name $data_path\n",
    "!CUDA_VISIBLE_DEVICES=\"0\" python ../unimol/infer.py --user-dir ../unimol $data_path --valid-subset $job_name \\\n",
    "       --results-path $results_path \\\n",
    "       --num-workers 8 --ddp-backend=c10d --batch-size $batch_size \\\n",
    "       --task unimol --loss unimol_infer --arch unimol_base \\\n",
    "       --path $weight_path \\\n",
    "       --fp16 --fp16-init-scale 4 --fp16-scale-window 256 \\\n",
    "       --only-polar $only_polar --dict-name $dict_name \\\n",
    "       --log-interval 50 --log-format simple --random-token-prob 0 --leave-unmasked-prob 1.0 --mode infer"
   ]
  },
  {
   "attachments": {},
   "cell_type": "markdown",
   "id": "d8421258-eca6-4801-aadd-fc67fd928cb1",
   "metadata": {},
   "source": [
    "### Read .pkl and save results to .csv"
   ]
  },
  {
   "cell_type": "code",
   "execution_count": 31,
   "id": "c456f31e-94fc-4593-97c9-1db7182465aa",
   "metadata": {},
   "outputs": [
    {
     "name": "stdout",
     "output_type": "stream",
     "text": [
      "<class 'pandas.core.frame.DataFrame'>\n",
      "RangeIndex: 1 entries, 0 to 0\n",
      "Data columns (total 3 columns):\n",
      " #   Column     Non-Null Count  Dtype \n",
      "---  ------     --------------  ----- \n",
      " 0   SMILES     1 non-null      object\n",
      " 1   mol_repr   1 non-null      object\n",
      " 2   pair_repr  1 non-null      object\n",
      "dtypes: object(3)\n",
      "memory usage: 152.0+ bytes\n",
      "                                              SMILES  \\\n",
      "0  CC1=C(C(=O)OC2CCCC2)[C@H](c2ccccc2OC(C)C)C2=C(...   \n",
      "\n",
      "                                            mol_repr  \\\n",
      "0  [-0.3213, -0.5977, 0.196, -0.3037, 0.8257, -2....   \n",
      "\n",
      "                                           pair_repr  \n",
      "0  [[[1.552, 3.688, 6.67, 8.65, 3.883, 10.5, 2.48...   None\n"
     ]
    }
   ],
   "source": [
    "def get_csv_results(predict_path, results_path):\n",
    "    predict = pd.read_pickle(predict_path)\n",
    "    smi_list, mol_repr_list, pair_repr_list = [], [], []\n",
    "    for batch in predict:\n",
    "        sz = batch[\"bsz\"]\n",
    "        for i in range(sz):\n",
    "            smi_list.append(batch[\"smi_name\"][i])\n",
    "            mol_repr_list.append(batch[\"mol_repr_cls\"][i])\n",
    "            pair_repr_list.append(batch[\"pair_repr\"][i])\n",
    "    predict_df = pd.DataFrame({\"SMILES\": smi_list, \"mol_repr\": mol_repr_list, \"pair_repr\": pair_repr_list})\n",
    "    print(predict_df.head(1),predict_df.info())\n",
    "    predict_df.to_csv(results_path+'/mol_repr.csv',index=False)\n",
    "\n",
    "pkl_path = glob.glob(f'{results_path}/*_{job_name}.out.pkl')[0]\n",
    "get_csv_results(pkl_path, results_path)"
   ]
  }
 ],
 "metadata": {
  "kernelspec": {
   "display_name": "Python 3 (ipykernel)",
   "language": "python",
   "name": "python3"
  },
  "language_info": {
   "codemirror_mode": {
    "name": "ipython",
    "version": 3
   },
   "file_extension": ".py",
   "mimetype": "text/x-python",
   "name": "python",
   "nbconvert_exporter": "python",
   "pygments_lexer": "ipython3",
   "version": "3.8.17"
  }
 },
 "nbformat": 4,
 "nbformat_minor": 5
}
